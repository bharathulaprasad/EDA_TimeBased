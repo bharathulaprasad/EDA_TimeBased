{
  "nbformat": 4,
  "nbformat_minor": 0,
  "metadata": {
    "colab": {
      "name": "EDA Time series Data of SBI Shares in NSE.ipynb",
      "provenance": [],
      "authorship_tag": "ABX9TyMfvfJG4Y5GnCDvR2zlq8eF",
      "include_colab_link": true
    },
    "kernelspec": {
      "name": "python3",
      "display_name": "Python 3"
    },
    "language_info": {
      "name": "python"
    }
  },
  "cells": [
    {
      "cell_type": "markdown",
      "metadata": {
        "id": "view-in-github",
        "colab_type": "text"
      },
      "source": [
        "<a href=\"https://colab.research.google.com/github/bharathulaprasad/EDA_TimeBased/blob/main/EDA_Time_series_Data_of_SBI_Shares_in_NSE.ipynb\" target=\"_parent\"><img src=\"https://colab.research.google.com/assets/colab-badge.svg\" alt=\"Open In Colab\"/></a>"
      ]
    },
    {
      "cell_type": "code",
      "execution_count": 1,
      "metadata": {
        "colab": {
          "base_uri": "https://localhost:8080/"
        },
        "id": "j2oI3e0YGdSA",
        "outputId": "3241108b-7461-4921-cf9b-8c8aca7ea12f"
      },
      "outputs": [
        {
          "output_type": "stream",
          "name": "stdout",
          "text": [
            "Requirement already satisfied: pandas-datareader in /usr/local/lib/python3.7/dist-packages (0.9.0)\n",
            "Requirement already satisfied: lxml in /usr/local/lib/python3.7/dist-packages (from pandas-datareader) (4.8.0)\n",
            "Requirement already satisfied: requests>=2.19.0 in /usr/local/lib/python3.7/dist-packages (from pandas-datareader) (2.27.1)\n",
            "Requirement already satisfied: pandas>=0.23 in /usr/local/lib/python3.7/dist-packages (from pandas-datareader) (1.3.5)\n",
            "Requirement already satisfied: pytz>=2017.3 in /usr/local/lib/python3.7/dist-packages (from pandas>=0.23->pandas-datareader) (2018.9)\n",
            "Requirement already satisfied: python-dateutil>=2.7.3 in /usr/local/lib/python3.7/dist-packages (from pandas>=0.23->pandas-datareader) (2.8.2)\n",
            "Requirement already satisfied: numpy>=1.17.3 in /usr/local/lib/python3.7/dist-packages (from pandas>=0.23->pandas-datareader) (1.21.5)\n",
            "Requirement already satisfied: six>=1.5 in /usr/local/lib/python3.7/dist-packages (from python-dateutil>=2.7.3->pandas>=0.23->pandas-datareader) (1.15.0)\n",
            "Requirement already satisfied: urllib3<1.27,>=1.21.1 in /usr/local/lib/python3.7/dist-packages (from requests>=2.19.0->pandas-datareader) (1.24.3)\n",
            "Requirement already satisfied: idna<4,>=2.5 in /usr/local/lib/python3.7/dist-packages (from requests>=2.19.0->pandas-datareader) (2.10)\n",
            "Requirement already satisfied: certifi>=2017.4.17 in /usr/local/lib/python3.7/dist-packages (from requests>=2.19.0->pandas-datareader) (2021.10.8)\n",
            "Requirement already satisfied: charset-normalizer~=2.0.0 in /usr/local/lib/python3.7/dist-packages (from requests>=2.19.0->pandas-datareader) (2.0.12)\n",
            "Requirement already satisfied: yfinance in /usr/local/lib/python3.7/dist-packages (0.1.70)\n",
            "Requirement already satisfied: pandas>=0.24.0 in /usr/local/lib/python3.7/dist-packages (from yfinance) (1.3.5)\n",
            "Requirement already satisfied: requests>=2.26 in /usr/local/lib/python3.7/dist-packages (from yfinance) (2.27.1)\n",
            "Requirement already satisfied: lxml>=4.5.1 in /usr/local/lib/python3.7/dist-packages (from yfinance) (4.8.0)\n",
            "Requirement already satisfied: multitasking>=0.0.7 in /usr/local/lib/python3.7/dist-packages (from yfinance) (0.0.10)\n",
            "Requirement already satisfied: numpy>=1.15 in /usr/local/lib/python3.7/dist-packages (from yfinance) (1.21.5)\n",
            "Requirement already satisfied: python-dateutil>=2.7.3 in /usr/local/lib/python3.7/dist-packages (from pandas>=0.24.0->yfinance) (2.8.2)\n",
            "Requirement already satisfied: pytz>=2017.3 in /usr/local/lib/python3.7/dist-packages (from pandas>=0.24.0->yfinance) (2018.9)\n",
            "Requirement already satisfied: six>=1.5 in /usr/local/lib/python3.7/dist-packages (from python-dateutil>=2.7.3->pandas>=0.24.0->yfinance) (1.15.0)\n",
            "Requirement already satisfied: charset-normalizer~=2.0.0 in /usr/local/lib/python3.7/dist-packages (from requests>=2.26->yfinance) (2.0.12)\n",
            "Requirement already satisfied: idna<4,>=2.5 in /usr/local/lib/python3.7/dist-packages (from requests>=2.26->yfinance) (2.10)\n",
            "Requirement already satisfied: urllib3<1.27,>=1.21.1 in /usr/local/lib/python3.7/dist-packages (from requests>=2.26->yfinance) (1.24.3)\n",
            "Requirement already satisfied: certifi>=2017.4.17 in /usr/local/lib/python3.7/dist-packages (from requests>=2.26->yfinance) (2021.10.8)\n"
          ]
        }
      ],
      "source": [
        "!pip install pandas-datareader\n",
        "!pip install yfinance"
      ]
    },
    {
      "cell_type": "code",
      "source": [
        "import pandas_datareader as pdr\n",
        "import pandas as pd\n",
        "from datetime import datetime\n"
      ],
      "metadata": {
        "id": "GqOcDuG5GtGI"
      },
      "execution_count": 2,
      "outputs": []
    },
    {
      "cell_type": "code",
      "source": [
        "import pandas\n",
        "from pandas_datareader import data as pdr\n",
        "import yfinance as yfin\n",
        "yfin.pdr_override()\n",
        "df_sbi=pdr.get_data_yahoo('SBIN.NS')"
      ],
      "metadata": {
        "colab": {
          "base_uri": "https://localhost:8080/"
        },
        "id": "oe_4acBJG3dq",
        "outputId": "f263e11d-0461-47ad-cc6e-9fd1fefcd990"
      },
      "execution_count": 22,
      "outputs": [
        {
          "output_type": "stream",
          "name": "stdout",
          "text": [
            "\r[*********************100%***********************]  1 of 1 completed\n"
          ]
        }
      ]
    },
    {
      "cell_type": "code",
      "source": [
        "df_sbi.tail()"
      ],
      "metadata": {
        "colab": {
          "base_uri": "https://localhost:8080/",
          "height": 238
        },
        "id": "-_brOLpaUQaW",
        "outputId": "b8107bec-2c0a-4b3c-a993-758a61ca6ce7"
      },
      "execution_count": 23,
      "outputs": [
        {
          "output_type": "execute_result",
          "data": {
            "text/html": [
              "\n",
              "  <div id=\"df-1688be79-1643-4511-aa14-52fc4c2ca70a\">\n",
              "    <div class=\"colab-df-container\">\n",
              "      <div>\n",
              "<style scoped>\n",
              "    .dataframe tbody tr th:only-of-type {\n",
              "        vertical-align: middle;\n",
              "    }\n",
              "\n",
              "    .dataframe tbody tr th {\n",
              "        vertical-align: top;\n",
              "    }\n",
              "\n",
              "    .dataframe thead th {\n",
              "        text-align: right;\n",
              "    }\n",
              "</style>\n",
              "<table border=\"1\" class=\"dataframe\">\n",
              "  <thead>\n",
              "    <tr style=\"text-align: right;\">\n",
              "      <th></th>\n",
              "      <th>Open</th>\n",
              "      <th>High</th>\n",
              "      <th>Low</th>\n",
              "      <th>Close</th>\n",
              "      <th>Adj Close</th>\n",
              "      <th>Volume</th>\n",
              "    </tr>\n",
              "    <tr>\n",
              "      <th>Date</th>\n",
              "      <th></th>\n",
              "      <th></th>\n",
              "      <th></th>\n",
              "      <th></th>\n",
              "      <th></th>\n",
              "      <th></th>\n",
              "    </tr>\n",
              "  </thead>\n",
              "  <tbody>\n",
              "    <tr>\n",
              "      <th>2022-02-21</th>\n",
              "      <td>511.549988</td>\n",
              "      <td>517.500000</td>\n",
              "      <td>504.649994</td>\n",
              "      <td>511.850006</td>\n",
              "      <td>511.850006</td>\n",
              "      <td>16866932</td>\n",
              "    </tr>\n",
              "    <tr>\n",
              "      <th>2022-02-22</th>\n",
              "      <td>500.899994</td>\n",
              "      <td>505.299988</td>\n",
              "      <td>495.500000</td>\n",
              "      <td>498.399994</td>\n",
              "      <td>498.399994</td>\n",
              "      <td>27108772</td>\n",
              "    </tr>\n",
              "    <tr>\n",
              "      <th>2022-02-23</th>\n",
              "      <td>503.000000</td>\n",
              "      <td>505.350006</td>\n",
              "      <td>497.250000</td>\n",
              "      <td>498.700012</td>\n",
              "      <td>498.700012</td>\n",
              "      <td>13899433</td>\n",
              "    </tr>\n",
              "    <tr>\n",
              "      <th>2022-02-24</th>\n",
              "      <td>480.000000</td>\n",
              "      <td>487.950012</td>\n",
              "      <td>468.000000</td>\n",
              "      <td>472.649994</td>\n",
              "      <td>472.649994</td>\n",
              "      <td>32356037</td>\n",
              "    </tr>\n",
              "    <tr>\n",
              "      <th>2022-02-25</th>\n",
              "      <td>480.000000</td>\n",
              "      <td>491.899994</td>\n",
              "      <td>479.299988</td>\n",
              "      <td>482.950012</td>\n",
              "      <td>482.950012</td>\n",
              "      <td>21786684</td>\n",
              "    </tr>\n",
              "  </tbody>\n",
              "</table>\n",
              "</div>\n",
              "      <button class=\"colab-df-convert\" onclick=\"convertToInteractive('df-1688be79-1643-4511-aa14-52fc4c2ca70a')\"\n",
              "              title=\"Convert this dataframe to an interactive table.\"\n",
              "              style=\"display:none;\">\n",
              "        \n",
              "  <svg xmlns=\"http://www.w3.org/2000/svg\" height=\"24px\"viewBox=\"0 0 24 24\"\n",
              "       width=\"24px\">\n",
              "    <path d=\"M0 0h24v24H0V0z\" fill=\"none\"/>\n",
              "    <path d=\"M18.56 5.44l.94 2.06.94-2.06 2.06-.94-2.06-.94-.94-2.06-.94 2.06-2.06.94zm-11 1L8.5 8.5l.94-2.06 2.06-.94-2.06-.94L8.5 2.5l-.94 2.06-2.06.94zm10 10l.94 2.06.94-2.06 2.06-.94-2.06-.94-.94-2.06-.94 2.06-2.06.94z\"/><path d=\"M17.41 7.96l-1.37-1.37c-.4-.4-.92-.59-1.43-.59-.52 0-1.04.2-1.43.59L10.3 9.45l-7.72 7.72c-.78.78-.78 2.05 0 2.83L4 21.41c.39.39.9.59 1.41.59.51 0 1.02-.2 1.41-.59l7.78-7.78 2.81-2.81c.8-.78.8-2.07 0-2.86zM5.41 20L4 18.59l7.72-7.72 1.47 1.35L5.41 20z\"/>\n",
              "  </svg>\n",
              "      </button>\n",
              "      \n",
              "  <style>\n",
              "    .colab-df-container {\n",
              "      display:flex;\n",
              "      flex-wrap:wrap;\n",
              "      gap: 12px;\n",
              "    }\n",
              "\n",
              "    .colab-df-convert {\n",
              "      background-color: #E8F0FE;\n",
              "      border: none;\n",
              "      border-radius: 50%;\n",
              "      cursor: pointer;\n",
              "      display: none;\n",
              "      fill: #1967D2;\n",
              "      height: 32px;\n",
              "      padding: 0 0 0 0;\n",
              "      width: 32px;\n",
              "    }\n",
              "\n",
              "    .colab-df-convert:hover {\n",
              "      background-color: #E2EBFA;\n",
              "      box-shadow: 0px 1px 2px rgba(60, 64, 67, 0.3), 0px 1px 3px 1px rgba(60, 64, 67, 0.15);\n",
              "      fill: #174EA6;\n",
              "    }\n",
              "\n",
              "    [theme=dark] .colab-df-convert {\n",
              "      background-color: #3B4455;\n",
              "      fill: #D2E3FC;\n",
              "    }\n",
              "\n",
              "    [theme=dark] .colab-df-convert:hover {\n",
              "      background-color: #434B5C;\n",
              "      box-shadow: 0px 1px 3px 1px rgba(0, 0, 0, 0.15);\n",
              "      filter: drop-shadow(0px 1px 2px rgba(0, 0, 0, 0.3));\n",
              "      fill: #FFFFFF;\n",
              "    }\n",
              "  </style>\n",
              "\n",
              "      <script>\n",
              "        const buttonEl =\n",
              "          document.querySelector('#df-1688be79-1643-4511-aa14-52fc4c2ca70a button.colab-df-convert');\n",
              "        buttonEl.style.display =\n",
              "          google.colab.kernel.accessAllowed ? 'block' : 'none';\n",
              "\n",
              "        async function convertToInteractive(key) {\n",
              "          const element = document.querySelector('#df-1688be79-1643-4511-aa14-52fc4c2ca70a');\n",
              "          const dataTable =\n",
              "            await google.colab.kernel.invokeFunction('convertToInteractive',\n",
              "                                                     [key], {});\n",
              "          if (!dataTable) return;\n",
              "\n",
              "          const docLinkHtml = 'Like what you see? Visit the ' +\n",
              "            '<a target=\"_blank\" href=https://colab.research.google.com/notebooks/data_table.ipynb>data table notebook</a>'\n",
              "            + ' to learn more about interactive tables.';\n",
              "          element.innerHTML = '';\n",
              "          dataTable['output_type'] = 'display_data';\n",
              "          await google.colab.output.renderOutput(dataTable, element);\n",
              "          const docLink = document.createElement('div');\n",
              "          docLink.innerHTML = docLinkHtml;\n",
              "          element.appendChild(docLink);\n",
              "        }\n",
              "      </script>\n",
              "    </div>\n",
              "  </div>\n",
              "  "
            ],
            "text/plain": [
              "                  Open        High  ...   Adj Close    Volume\n",
              "Date                                ...                      \n",
              "2022-02-21  511.549988  517.500000  ...  511.850006  16866932\n",
              "2022-02-22  500.899994  505.299988  ...  498.399994  27108772\n",
              "2022-02-23  503.000000  505.350006  ...  498.700012  13899433\n",
              "2022-02-24  480.000000  487.950012  ...  472.649994  32356037\n",
              "2022-02-25  480.000000  491.899994  ...  482.950012  21786684\n",
              "\n",
              "[5 rows x 6 columns]"
            ]
          },
          "metadata": {},
          "execution_count": 23
        }
      ]
    },
    {
      "cell_type": "code",
      "source": [
        "df_sbi['High'].plot(figsize=(12,4))"
      ],
      "metadata": {
        "colab": {
          "base_uri": "https://localhost:8080/",
          "height": 286
        },
        "id": "KWGDhaVUUU63",
        "outputId": "284b3e3f-a46c-415d-9b60-ff1798b1c8df"
      },
      "execution_count": 24,
      "outputs": [
        {
          "output_type": "execute_result",
          "data": {
            "text/plain": [
              "<matplotlib.axes._subplots.AxesSubplot at 0x7f7344f27c90>"
            ]
          },
          "metadata": {},
          "execution_count": 24
        },
        {
          "output_type": "display_data",
          "data": {
            "image/png": "[encoded data removed]",
            "text/plain": [
              "<Figure size 864x288 with 1 Axes>"
            ]
          },
          "metadata": {
            "needs_background": "light"
          }
        }
      ]
    },
    {
      "cell_type": "code",
      "source": [
        "df_sbi.resample(rule='A').min()"
      ],
      "metadata": {
        "colab": {
          "base_uri": "https://localhost:8080/",
          "height": 927
        },
        "id": "1Y-hLIIvW2d0",
        "outputId": "7f72df51-e21d-4bb3-a693-2287964886e7"
      },
      "execution_count": 25,
      "outputs": [
        {
          "output_type": "execute_result",
          "data": {
            "text/html": [
              "\n",
              "  <div id=\"df-a471ec5a-2dad-47e0-89c2-deb5f2927b5e\">\n",
              "    <div class=\"colab-df-container\">\n",
              "      <div>\n",
              "<style scoped>\n",
              "    .dataframe tbody tr th:only-of-type {\n",
              "        vertical-align: middle;\n",
              "    }\n",
              "\n",
              "    .dataframe tbody tr th {\n",
              "        vertical-align: top;\n",
              "    }\n",
              "\n",
              "    .dataframe thead th {\n",
              "        text-align: right;\n",
              "    }\n",
              "</style>\n",
              "<table border=\"1\" class=\"dataframe\">\n",
              "  <thead>\n",
              "    <tr style=\"text-align: right;\">\n",
              "      <th></th>\n",
              "      <th>Open</th>\n",
              "      <th>High</th>\n",
              "      <th>Low</th>\n",
              "      <th>Close</th>\n",
              "      <th>Adj Close</th>\n",
              "      <th>Volume</th>\n",
              "    </tr>\n",
              "    <tr>\n",
              "      <th>Date</th>\n",
              "      <th></th>\n",
              "      <th></th>\n",
              "      <th></th>\n",
              "      <th></th>\n",
              "      <th></th>\n",
              "      <th></th>\n",
              "    </tr>\n",
              "  </thead>\n",
              "  <tbody>\n",
              "    <tr>\n",
              "      <th>1996-12-31</th>\n",
              "      <td>16.889023</td>\n",
              "      <td>17.624969</td>\n",
              "      <td>16.705036</td>\n",
              "      <td>17.063574</td>\n",
              "      <td>11.647397</td>\n",
              "      <td>0</td>\n",
              "    </tr>\n",
              "    <tr>\n",
              "      <th>1997-12-31</th>\n",
              "      <td>19.582775</td>\n",
              "      <td>20.049816</td>\n",
              "      <td>19.115732</td>\n",
              "      <td>19.606363</td>\n",
              "      <td>13.723929</td>\n",
              "      <td>0</td>\n",
              "    </tr>\n",
              "    <tr>\n",
              "      <th>1998-12-31</th>\n",
              "      <td>13.968826</td>\n",
              "      <td>14.190553</td>\n",
              "      <td>13.747098</td>\n",
              "      <td>14.105636</td>\n",
              "      <td>10.070349</td>\n",
              "      <td>0</td>\n",
              "    </tr>\n",
              "    <tr>\n",
              "      <th>1999-12-31</th>\n",
              "      <td>13.935802</td>\n",
              "      <td>13.935802</td>\n",
              "      <td>13.596135</td>\n",
              "      <td>13.822580</td>\n",
              "      <td>9.868272</td>\n",
              "      <td>0</td>\n",
              "    </tr>\n",
              "    <tr>\n",
              "      <th>2000-12-31</th>\n",
              "      <td>14.638725</td>\n",
              "      <td>14.851018</td>\n",
              "      <td>14.624573</td>\n",
              "      <td>14.695337</td>\n",
              "      <td>10.914115</td>\n",
              "      <td>0</td>\n",
              "    </tr>\n",
              "    <tr>\n",
              "      <th>2001-12-31</th>\n",
              "      <td>13.478195</td>\n",
              "      <td>13.959390</td>\n",
              "      <td>13.214009</td>\n",
              "      <td>13.346102</td>\n",
              "      <td>10.145988</td>\n",
              "      <td>0</td>\n",
              "    </tr>\n",
              "    <tr>\n",
              "      <th>2002-12-31</th>\n",
              "      <td>17.266432</td>\n",
              "      <td>17.393806</td>\n",
              "      <td>17.219255</td>\n",
              "      <td>17.308889</td>\n",
              "      <td>13.158580</td>\n",
              "      <td>0</td>\n",
              "    </tr>\n",
              "    <tr>\n",
              "      <th>2003-12-31</th>\n",
              "      <td>25.286358</td>\n",
              "      <td>25.810013</td>\n",
              "      <td>25.168419</td>\n",
              "      <td>25.475061</td>\n",
              "      <td>19.855942</td>\n",
              "      <td>0</td>\n",
              "    </tr>\n",
              "    <tr>\n",
              "      <th>2004-12-31</th>\n",
              "      <td>38.401299</td>\n",
              "      <td>40.076046</td>\n",
              "      <td>36.797314</td>\n",
              "      <td>38.561695</td>\n",
              "      <td>30.711586</td>\n",
              "      <td>0</td>\n",
              "    </tr>\n",
              "    <tr>\n",
              "      <th>2005-12-31</th>\n",
              "      <td>53.025871</td>\n",
              "      <td>54.441151</td>\n",
              "      <td>52.808861</td>\n",
              "      <td>53.893909</td>\n",
              "      <td>44.069824</td>\n",
              "      <td>0</td>\n",
              "    </tr>\n",
              "    <tr>\n",
              "      <th>2006-12-31</th>\n",
              "      <td>66.046455</td>\n",
              "      <td>67.334366</td>\n",
              "      <td>64.584000</td>\n",
              "      <td>65.150116</td>\n",
              "      <td>55.281139</td>\n",
              "      <td>4365128</td>\n",
              "    </tr>\n",
              "    <tr>\n",
              "      <th>2007-12-31</th>\n",
              "      <td>87.256805</td>\n",
              "      <td>87.723846</td>\n",
              "      <td>84.737602</td>\n",
              "      <td>86.200066</td>\n",
              "      <td>73.142433</td>\n",
              "      <td>3709223</td>\n",
              "    </tr>\n",
              "    <tr>\n",
              "      <th>2008-12-31</th>\n",
              "      <td>96.565002</td>\n",
              "      <td>104.500000</td>\n",
              "      <td>96.565002</td>\n",
              "      <td>102.529999</td>\n",
              "      <td>89.186501</td>\n",
              "      <td>0</td>\n",
              "    </tr>\n",
              "    <tr>\n",
              "      <th>2009-12-31</th>\n",
              "      <td>92.275002</td>\n",
              "      <td>93.400002</td>\n",
              "      <td>89.150002</td>\n",
              "      <td>89.529999</td>\n",
              "      <td>77.878349</td>\n",
              "      <td>0</td>\n",
              "    </tr>\n",
              "    <tr>\n",
              "      <th>2010-12-31</th>\n",
              "      <td>190.000000</td>\n",
              "      <td>192.500000</td>\n",
              "      <td>186.309998</td>\n",
              "      <td>189.500000</td>\n",
              "      <td>168.458679</td>\n",
              "      <td>5055340</td>\n",
              "    </tr>\n",
              "    <tr>\n",
              "      <th>2011-12-31</th>\n",
              "      <td>160.000000</td>\n",
              "      <td>163.500000</td>\n",
              "      <td>157.110001</td>\n",
              "      <td>157.850006</td>\n",
              "      <td>143.415359</td>\n",
              "      <td>6776210</td>\n",
              "    </tr>\n",
              "    <tr>\n",
              "      <th>2012-12-31</th>\n",
              "      <td>162.899994</td>\n",
              "      <td>163.600006</td>\n",
              "      <td>161.139999</td>\n",
              "      <td>162.764999</td>\n",
              "      <td>147.880890</td>\n",
              "      <td>10006870</td>\n",
              "    </tr>\n",
              "    <tr>\n",
              "      <th>2013-12-31</th>\n",
              "      <td>147.600006</td>\n",
              "      <td>151.149994</td>\n",
              "      <td>145.270004</td>\n",
              "      <td>147.565002</td>\n",
              "      <td>139.186478</td>\n",
              "      <td>9686870</td>\n",
              "    </tr>\n",
              "    <tr>\n",
              "      <th>2014-12-31</th>\n",
              "      <td>147.000000</td>\n",
              "      <td>148.490005</td>\n",
              "      <td>145.509995</td>\n",
              "      <td>147.360001</td>\n",
              "      <td>138.993103</td>\n",
              "      <td>0</td>\n",
              "    </tr>\n",
              "    <tr>\n",
              "      <th>2015-12-31</th>\n",
              "      <td>223.000000</td>\n",
              "      <td>226.550003</td>\n",
              "      <td>220.149994</td>\n",
              "      <td>221.100006</td>\n",
              "      <td>214.299164</td>\n",
              "      <td>5571891</td>\n",
              "    </tr>\n",
              "    <tr>\n",
              "      <th>2016-12-31</th>\n",
              "      <td>155.000000</td>\n",
              "      <td>157.649994</td>\n",
              "      <td>148.250000</td>\n",
              "      <td>151.800003</td>\n",
              "      <td>147.130768</td>\n",
              "      <td>6449426</td>\n",
              "    </tr>\n",
              "    <tr>\n",
              "      <th>2017-12-31</th>\n",
              "      <td>243.800003</td>\n",
              "      <td>245.250000</td>\n",
              "      <td>241.100006</td>\n",
              "      <td>242.750000</td>\n",
              "      <td>238.520874</td>\n",
              "      <td>2095795</td>\n",
              "    </tr>\n",
              "    <tr>\n",
              "      <th>2018-12-31</th>\n",
              "      <td>233.250000</td>\n",
              "      <td>238.800003</td>\n",
              "      <td>232.350006</td>\n",
              "      <td>233.199997</td>\n",
              "      <td>231.066666</td>\n",
              "      <td>3312160</td>\n",
              "    </tr>\n",
              "    <tr>\n",
              "      <th>2019-12-31</th>\n",
              "      <td>250.100006</td>\n",
              "      <td>253.399994</td>\n",
              "      <td>244.350006</td>\n",
              "      <td>249.100006</td>\n",
              "      <td>246.821228</td>\n",
              "      <td>9082501</td>\n",
              "    </tr>\n",
              "    <tr>\n",
              "      <th>2020-12-31</th>\n",
              "      <td>151.949997</td>\n",
              "      <td>153.199997</td>\n",
              "      <td>149.449997</td>\n",
              "      <td>150.850006</td>\n",
              "      <td>149.470016</td>\n",
              "      <td>7753219</td>\n",
              "    </tr>\n",
              "    <tr>\n",
              "      <th>2021-12-31</th>\n",
              "      <td>271.899994</td>\n",
              "      <td>280.000000</td>\n",
              "      <td>269.500000</td>\n",
              "      <td>275.649994</td>\n",
              "      <td>273.128326</td>\n",
              "      <td>8639835</td>\n",
              "    </tr>\n",
              "    <tr>\n",
              "      <th>2022-12-31</th>\n",
              "      <td>462.000000</td>\n",
              "      <td>472.000000</td>\n",
              "      <td>460.100006</td>\n",
              "      <td>470.799988</td>\n",
              "      <td>470.799988</td>\n",
              "      <td>8724574</td>\n",
              "    </tr>\n",
              "  </tbody>\n",
              "</table>\n",
              "</div>\n",
              "      <button class=\"colab-df-convert\" onclick=\"convertToInteractive('df-a471ec5a-2dad-47e0-89c2-deb5f2927b5e')\"\n",
              "              title=\"Convert this dataframe to an interactive table.\"\n",
              "              style=\"display:none;\">\n",
              "        \n",
              "  <svg xmlns=\"http://www.w3.org/2000/svg\" height=\"24px\"viewBox=\"0 0 24 24\"\n",
              "       width=\"24px\">\n",
              "    <path d=\"M0 0h24v24H0V0z\" fill=\"none\"/>\n",
              "    <path d=\"M18.56 5.44l.94 2.06.94-2.06 2.06-.94-2.06-.94-.94-2.06-.94 2.06-2.06.94zm-11 1L8.5 8.5l.94-2.06 2.06-.94-2.06-.94L8.5 2.5l-.94 2.06-2.06.94zm10 10l.94 2.06.94-2.06 2.06-.94-2.06-.94-.94-2.06-.94 2.06-2.06.94z\"/><path d=\"M17.41 7.96l-1.37-1.37c-.4-.4-.92-.59-1.43-.59-.52 0-1.04.2-1.43.59L10.3 9.45l-7.72 7.72c-.78.78-.78 2.05 0 2.83L4 21.41c.39.39.9.59 1.41.59.51 0 1.02-.2 1.41-.59l7.78-7.78 2.81-2.81c.8-.78.8-2.07 0-2.86zM5.41 20L4 18.59l7.72-7.72 1.47 1.35L5.41 20z\"/>\n",
              "  </svg>\n",
              "      </button>\n",
              "      \n",
              "  <style>\n",
              "    .colab-df-container {\n",
              "      display:flex;\n",
              "      flex-wrap:wrap;\n",
              "      gap: 12px;\n",
              "    }\n",
              "\n",
              "    .colab-df-convert {\n",
              "      background-color: #E8F0FE;\n",
              "      border: none;\n",
              "      border-radius: 50%;\n",
              "      cursor: pointer;\n",
              "      display: none;\n",
              "      fill: #1967D2;\n",
              "      height: 32px;\n",
              "      padding: 0 0 0 0;\n",
              "      width: 32px;\n",
              "    }\n",
              "\n",
              "    .colab-df-convert:hover {\n",
              "      background-color: #E2EBFA;\n",
              "      box-shadow: 0px 1px 2px rgba(60, 64, 67, 0.3), 0px 1px 3px 1px rgba(60, 64, 67, 0.15);\n",
              "      fill: #174EA6;\n",
              "    }\n",
              "\n",
              "    [theme=dark] .colab-df-convert {\n",
              "      background-color: #3B4455;\n",
              "      fill: #D2E3FC;\n",
              "    }\n",
              "\n",
              "    [theme=dark] .colab-df-convert:hover {\n",
              "      background-color: #434B5C;\n",
              "      box-shadow: 0px 1px 3px 1px rgba(0, 0, 0, 0.15);\n",
              "      filter: drop-shadow(0px 1px 2px rgba(0, 0, 0, 0.3));\n",
              "      fill: #FFFFFF;\n",
              "    }\n",
              "  </style>\n",
              "\n",
              "      <script>\n",
              "        const buttonEl =\n",
              "          document.querySelector('#df-a471ec5a-2dad-47e0-89c2-deb5f2927b5e button.colab-df-convert');\n",
              "        buttonEl.style.display =\n",
              "          google.colab.kernel.accessAllowed ? 'block' : 'none';\n",
              "\n",
              "        async function convertToInteractive(key) {\n",
              "          const element = document.querySelector('#df-a471ec5a-2dad-47e0-89c2-deb5f2927b5e');\n",
              "          const dataTable =\n",
              "            await google.colab.kernel.invokeFunction('convertToInteractive',\n",
              "                                                     [key], {});\n",
              "          if (!dataTable) return;\n",
              "\n",
              "          const docLinkHtml = 'Like what you see? Visit the ' +\n",
              "            '<a target=\"_blank\" href=https://colab.research.google.com/notebooks/data_table.ipynb>data table notebook</a>'\n",
              "            + ' to learn more about interactive tables.';\n",
              "          element.innerHTML = '';\n",
              "          dataTable['output_type'] = 'display_data';\n",
              "          await google.colab.output.renderOutput(dataTable, element);\n",
              "          const docLink = document.createElement('div');\n",
              "          docLink.innerHTML = docLinkHtml;\n",
              "          element.appendChild(docLink);\n",
              "        }\n",
              "      </script>\n",
              "    </div>\n",
              "  </div>\n",
              "  "
            ],
            "text/plain": [
              "                  Open        High  ...   Adj Close    Volume\n",
              "Date                                ...                      \n",
              "1996-12-31   16.889023   17.624969  ...   11.647397         0\n",
              "1997-12-31   19.582775   20.049816  ...   13.723929         0\n",
              "1998-12-31   13.968826   14.190553  ...   10.070349         0\n",
              "1999-12-31   13.935802   13.935802  ...    9.868272         0\n",
              "2000-12-31   14.638725   14.851018  ...   10.914115         0\n",
              "2001-12-31   13.478195   13.959390  ...   10.145988         0\n",
              "2002-12-31   17.266432   17.393806  ...   13.158580         0\n",
              "2003-12-31   25.286358   25.810013  ...   19.855942         0\n",
              "2004-12-31   38.401299   40.076046  ...   30.711586         0\n",
              "2005-12-31   53.025871   54.441151  ...   44.069824         0\n",
              "2006-12-31   66.046455   67.334366  ...   55.281139   4365128\n",
              "2007-12-31   87.256805   87.723846  ...   73.142433   3709223\n",
              "2008-12-31   96.565002  104.500000  ...   89.186501         0\n",
              "2009-12-31   92.275002   93.400002  ...   77.878349         0\n",
              "2010-12-31  190.000000  192.500000  ...  168.458679   5055340\n",
              "2011-12-31  160.000000  163.500000  ...  143.415359   6776210\n",
              "2012-12-31  162.899994  163.600006  ...  147.880890  10006870\n",
              "2013-12-31  147.600006  151.149994  ...  139.186478   9686870\n",
              "2014-12-31  147.000000  148.490005  ...  138.993103         0\n",
              "2015-12-31  223.000000  226.550003  ...  214.299164   5571891\n",
              "2016-12-31  155.000000  157.649994  ...  147.130768   6449426\n",
              "2017-12-31  243.800003  245.250000  ...  238.520874   2095795\n",
              "2018-12-31  233.250000  238.800003  ...  231.066666   3312160\n",
              "2019-12-31  250.100006  253.399994  ...  246.821228   9082501\n",
              "2020-12-31  151.949997  153.199997  ...  149.470016   7753219\n",
              "2021-12-31  271.899994  280.000000  ...  273.128326   8639835\n",
              "2022-12-31  462.000000  472.000000  ...  470.799988   8724574\n",
              "\n",
              "[27 rows x 6 columns]"
            ]
          },
          "metadata": {},
          "execution_count": 25
        }
      ]
    },
    {
      "cell_type": "code",
      "source": [
        "# year end frequency\n",
        "df_sbi.resample(rule='A').max()['Open'].plot()"
      ],
      "metadata": {
        "colab": {
          "base_uri": "https://localhost:8080/",
          "height": 296
        },
        "id": "H__wGyVhXIss",
        "outputId": "970b9ff6-5712-46f5-9ff9-7c6705144bb8"
      },
      "execution_count": 26,
      "outputs": [
        {
          "output_type": "execute_result",
          "data": {
            "text/plain": [
              "<matplotlib.axes._subplots.AxesSubplot at 0x7f7344cce910>"
            ]
          },
          "metadata": {},
          "execution_count": 26
        },
        {
          "output_type": "display_data",
          "data": {
            "image/png": "[encoded data removed]",
            "text/plain": [
              "<Figure size 432x288 with 1 Axes>"
            ]
          },
          "metadata": {
            "needs_background": "light"
          }
        }
      ]
    },
    {
      "cell_type": "code",
      "source": [
        "# quarter start frequency \n",
        "df_sbi.resample(rule='QS').max()['Open'].plot()"
      ],
      "metadata": {
        "colab": {
          "base_uri": "https://localhost:8080/",
          "height": 296
        },
        "id": "2sJyB5FyXenL",
        "outputId": "e4e52926-a6fe-4941-f550-e3e4b5d1e963"
      },
      "execution_count": 27,
      "outputs": [
        {
          "output_type": "execute_result",
          "data": {
            "text/plain": [
              "<matplotlib.axes._subplots.AxesSubplot at 0x7f734481e250>"
            ]
          },
          "metadata": {},
          "execution_count": 27
        },
        {
          "output_type": "display_data",
          "data": {
            "image/png": "[encoded data removed]",
            "text/plain": [
              "<Figure size 432x288 with 1 Axes>"
            ]
          },
          "metadata": {
            "needs_background": "light"
          }
        }
      ]
    },
    {
      "cell_type": "code",
      "source": [
        "# Business year start frequency \n",
        "df_sbi.resample(rule='BY').max()['Open'].plot()"
      ],
      "metadata": {
        "colab": {
          "base_uri": "https://localhost:8080/",
          "height": 296
        },
        "id": "50WZXnmhX0wM",
        "outputId": "59785a7b-cb81-4316-dd42-7d9efb522fee"
      },
      "execution_count": 28,
      "outputs": [
        {
          "output_type": "execute_result",
          "data": {
            "text/plain": [
              "<matplotlib.axes._subplots.AxesSubplot at 0x7f73448041d0>"
            ]
          },
          "metadata": {},
          "execution_count": 28
        },
        {
          "output_type": "display_data",
          "data": {
            "image/png": "[encoded data removed]",
            "text/plain": [
              "<Figure size 432x288 with 1 Axes>"
            ]
          },
          "metadata": {
            "needs_background": "light"
          }
        }
      ]
    },
    {
      "cell_type": "code",
      "source": [
        "# Business Quarter start frequency \n",
        "df_sbi.resample(rule='BQ').max()['Open'].plot()"
      ],
      "metadata": {
        "colab": {
          "base_uri": "https://localhost:8080/",
          "height": 296
        },
        "id": "jCxoPtG0YBXu",
        "outputId": "664b59cd-2345-4063-c3a5-082156830744"
      },
      "execution_count": 29,
      "outputs": [
        {
          "output_type": "execute_result",
          "data": {
            "text/plain": [
              "<matplotlib.axes._subplots.AxesSubplot at 0x7f7344764d50>"
            ]
          },
          "metadata": {},
          "execution_count": 29
        },
        {
          "output_type": "display_data",
          "data": {
            "image/png": "[encoded data removed]",
            "text/plain": [
              "<Figure size 432x288 with 1 Axes>"
            ]
          },
          "metadata": {
            "needs_background": "light"
          }
        }
      ]
    },
    {
      "cell_type": "code",
      "source": [
        "df_sbi['Open:30 days rolling']=df_sbi['Open'].rolling(30).mean()\n",
        "df_sbi[['Open','Open:30 days rolling']].plot(figsize=(12,5))"
      ],
      "metadata": {
        "colab": {
          "base_uri": "https://localhost:8080/",
          "height": 335
        },
        "id": "af_dIX7sYkUc",
        "outputId": "fdbcbaf5-4133-448d-e3db-3bb5dde1746c"
      },
      "execution_count": 31,
      "outputs": [
        {
          "output_type": "execute_result",
          "data": {
            "text/plain": [
              "<matplotlib.axes._subplots.AxesSubplot at 0x7f73444be390>"
            ]
          },
          "metadata": {},
          "execution_count": 31
        },
        {
          "output_type": "display_data",
          "data": {
            "image/png": "[encoded data removed]",
            "text/plain": [
              "<Figure size 864x360 with 1 Axes>"
            ]
          },
          "metadata": {
            "needs_background": "light"
          }
        }
      ]
    }
  ]
}